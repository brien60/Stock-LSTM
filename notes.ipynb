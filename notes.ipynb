{
 "cells": [
  {
   "cell_type": "markdown",
   "id": "9b53486d",
   "metadata": {},
   "source": [
    "### RNN Structure"
   ]
  },
  {
   "cell_type": "markdown",
   "id": "bdd1dd61",
   "metadata": {},
   "source": [
    "<img src=\"RNN.png\" alt=\"RNN Diagram\" height =\"300\">"
   ]
  },
  {
   "cell_type": "markdown",
   "id": "22546662",
   "metadata": {},
   "source": [
    "$$h_t = \\tanh(Ux_t + Wh_{t-1} + b_h)$$\n",
    "$$o_t = Vh_t + b_o$$\n",
    "\n",
    "$W, U$ are weights for the hidden state and the input state.\n",
    "- $W$ controls how much of the last time step's hidden state we want to keep\n",
    "- $U$ controls how much of the new input we want.\n",
    "\n",
    "$V$ is the weight that maps the hidden state to the output\n",
    "\n",
    "$o_t$ is the output at time $t$\n",
    "\n",
    "$b_h$ and $b_o$ are biases.\n",
    "\n",
    "The hidden state ($h$) serves as the memory of the network.\n",
    "- $h_t$ has information from all the time steps before t, albeit in a compressed way."
   ]
  },
  {
   "cell_type": "markdown",
   "id": "846e6a69",
   "metadata": {},
   "source": [
    "We can concatenate the hidden state and the input into a single long vector $[h_{t-1}, x_t]$\n",
    "\n",
    "Example:\n",
    "\n",
    "**No concatenation:**\n",
    "- $x_t: (10,)$\n",
    "- $h_{t-1}: (64,)$\n",
    "- $U: (64, 10)$\n",
    "- $W: (64, 64)$\n",
    "- $b_h: (64,)$\n",
    "\n",
    "Multiplications:\n",
    "- $Ux_t: (64,)$\n",
    "- $Wh_{t-1}: (64,)$\n",
    "- $\\tanh(Ux_t + Wh_{t-1} + b_h): (64,)$\n",
    "\n",
    "\n",
    "**With concatenation:**\n",
    "- $[h_{t-1}, x_t]: (64,) + (10,) = (74,)$\n",
    "- $W: (64, 74)$\n",
    "- $b_h: (64,)$\n",
    "\n",
    "Multiplications:\n",
    "- $W[h_{t-1}, x_t]: (64,)$\n",
    "- $\\tanh(W[h_{t-1}, x_t] + b_h): (64,)$\n"
   ]
  },
  {
   "cell_type": "markdown",
   "id": "2cddc760",
   "metadata": {},
   "source": []
  }
 ],
 "metadata": {
  "language_info": {
   "name": "python"
  }
 },
 "nbformat": 4,
 "nbformat_minor": 5
}
